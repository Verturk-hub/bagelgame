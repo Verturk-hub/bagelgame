{
 "cells": [
  {
   "cell_type": "code",
   "execution_count": 11,
   "source": [
    "import random\r\n",
    "\r\n",
    "NUM_DIGITS = 3\r\n",
    "MAX_GUESS = 10\r\n",
    "\r\n",
    "def getSecretNum():\r\n",
    "    numbers = list(range(10))\r\n",
    "    random.shuffle(numbers)\r\n",
    "    secret_num = ''\r\n",
    "    for i in range(NUM_DIGITS):\r\n",
    "        secret_num += str(numbers[i])\r\n",
    "    return secret_num\r\n",
    "\r\n",
    "def getClues(guess, secret_num):\r\n",
    "    if guess == secret_num:\r\n",
    "        return 'You got it!'\r\n",
    "\r\n",
    "    clues = []\r\n",
    "    for i in range(len(guess)):\r\n",
    "        if guess[i] == secret_num[i]:\r\n",
    "            clues.append('Fermi')\r\n",
    "        elif guess[i] in secret_num:\r\n",
    "            clues.append('Pico')\r\n",
    "    if len(clues) == 0:\r\n",
    "        return 'Bagels'\r\n",
    "    \r\n",
    "    clues.sort()\r\n",
    "    return ' '.join(clues)\r\n",
    "\r\n",
    "\r\n",
    "def isOnlyDigits(num):\r\n",
    "    if num == '':\r\n",
    "        return False\r\n",
    "\r\n",
    "    for i in num:\r\n",
    "        if i not in '0 1 2 3 4 5 6 7 8 9'.split():\r\n",
    "            return False\r\n",
    "    \r\n",
    "    return True\r\n",
    "\r\n",
    "\r\n",
    "while True:\r\n",
    "    secret_num = getSecretNum()\r\n",
    "    print('I got a number, you have', MAX_GUESS, 'guesses to guess')\r\n",
    "\r\n",
    "    guessesTaken = 1\r\n",
    "    while guessesTaken <= MAX_GUESS:\r\n",
    "        guess = ''\r\n",
    "        while len(guess) != NUM_DIGITS or not isOnlyDigits(guess):\r\n",
    "            print(guessesTaken , 'guesses')\r\n",
    "            guess = input()\r\n",
    "\r\n",
    "        print(getClues(guess,secret_num))\r\n",
    "        guessesTaken += 1\r\n",
    "\r\n",
    "        if guess == secret_num:\r\n",
    "            break\r\n",
    "        if guessesTaken > MAX_GUESS:\r\n",
    "            print('You run out of guesses. The answer is', secret_num)\r\n"
   ],
   "outputs": [
    {
     "output_type": "stream",
     "name": "stdout",
     "text": [
      "I got a number, you have 10 guesses to guess\n",
      "1 guesses\n",
      "Bagels\n",
      "2 guesses\n",
      "Bagels\n",
      "3 guesses\n",
      "Fermi Pico\n",
      "4 guesses\n",
      "Pico Pico\n",
      "5 guesses\n",
      "Pico Pico\n",
      "6 guesses\n",
      "Fermi Pico\n",
      "7 guesses\n",
      "Pico Pico\n",
      "8 guesses\n",
      "Pico Pico\n",
      "9 guesses\n",
      "Pico Pico\n",
      "10 guesses\n",
      "Fermi Pico\n",
      "You run out of guesses. The answer is 079\n",
      "I got a number, you have 10 guesses to guess\n",
      "1 guesses\n"
     ]
    },
    {
     "output_type": "error",
     "ename": "KeyboardInterrupt",
     "evalue": "Interrupted by user",
     "traceback": [
      "\u001b[1;31m---------------------------------------------------------------------------\u001b[0m",
      "\u001b[1;31mKeyboardInterrupt\u001b[0m                         Traceback (most recent call last)",
      "\u001b[1;32m<ipython-input-11-34b4a71ba97f>\u001b[0m in \u001b[0;36m<module>\u001b[1;34m\u001b[0m\n\u001b[0;32m     49\u001b[0m         \u001b[1;32mwhile\u001b[0m \u001b[0mlen\u001b[0m\u001b[1;33m(\u001b[0m\u001b[0mguess\u001b[0m\u001b[1;33m)\u001b[0m \u001b[1;33m!=\u001b[0m \u001b[0mNUM_DIGITS\u001b[0m \u001b[1;32mor\u001b[0m \u001b[1;32mnot\u001b[0m \u001b[0misOnlyDigits\u001b[0m\u001b[1;33m(\u001b[0m\u001b[0mguess\u001b[0m\u001b[1;33m)\u001b[0m\u001b[1;33m:\u001b[0m\u001b[1;33m\u001b[0m\u001b[1;33m\u001b[0m\u001b[0m\n\u001b[0;32m     50\u001b[0m             \u001b[0mprint\u001b[0m\u001b[1;33m(\u001b[0m\u001b[0mguessesTaken\u001b[0m \u001b[1;33m,\u001b[0m \u001b[1;34m'guesses'\u001b[0m\u001b[1;33m)\u001b[0m\u001b[1;33m\u001b[0m\u001b[1;33m\u001b[0m\u001b[0m\n\u001b[1;32m---> 51\u001b[1;33m             \u001b[0mguess\u001b[0m \u001b[1;33m=\u001b[0m \u001b[0minput\u001b[0m\u001b[1;33m(\u001b[0m\u001b[1;33m)\u001b[0m\u001b[1;33m\u001b[0m\u001b[1;33m\u001b[0m\u001b[0m\n\u001b[0m\u001b[0;32m     52\u001b[0m \u001b[1;33m\u001b[0m\u001b[0m\n\u001b[0;32m     53\u001b[0m         \u001b[0mprint\u001b[0m\u001b[1;33m(\u001b[0m\u001b[0mgetClues\u001b[0m\u001b[1;33m(\u001b[0m\u001b[0mguess\u001b[0m\u001b[1;33m,\u001b[0m\u001b[0msecret_num\u001b[0m\u001b[1;33m)\u001b[0m\u001b[1;33m)\u001b[0m\u001b[1;33m\u001b[0m\u001b[1;33m\u001b[0m\u001b[0m\n",
      "\u001b[1;32mC:\\Anaconda3.8\\lib\\site-packages\\ipykernel\\kernelbase.py\u001b[0m in \u001b[0;36mraw_input\u001b[1;34m(self, prompt)\u001b[0m\n\u001b[0;32m    858\u001b[0m                 \u001b[1;34m\"raw_input was called, but this frontend does not support input requests.\"\u001b[0m\u001b[1;33m\u001b[0m\u001b[1;33m\u001b[0m\u001b[0m\n\u001b[0;32m    859\u001b[0m             )\n\u001b[1;32m--> 860\u001b[1;33m         return self._input_request(str(prompt),\n\u001b[0m\u001b[0;32m    861\u001b[0m             \u001b[0mself\u001b[0m\u001b[1;33m.\u001b[0m\u001b[0m_parent_ident\u001b[0m\u001b[1;33m,\u001b[0m\u001b[1;33m\u001b[0m\u001b[1;33m\u001b[0m\u001b[0m\n\u001b[0;32m    862\u001b[0m             \u001b[0mself\u001b[0m\u001b[1;33m.\u001b[0m\u001b[0m_parent_header\u001b[0m\u001b[1;33m,\u001b[0m\u001b[1;33m\u001b[0m\u001b[1;33m\u001b[0m\u001b[0m\n",
      "\u001b[1;32mC:\\Anaconda3.8\\lib\\site-packages\\ipykernel\\kernelbase.py\u001b[0m in \u001b[0;36m_input_request\u001b[1;34m(self, prompt, ident, parent, password)\u001b[0m\n\u001b[0;32m    902\u001b[0m             \u001b[1;32mexcept\u001b[0m \u001b[0mKeyboardInterrupt\u001b[0m\u001b[1;33m:\u001b[0m\u001b[1;33m\u001b[0m\u001b[1;33m\u001b[0m\u001b[0m\n\u001b[0;32m    903\u001b[0m                 \u001b[1;31m# re-raise KeyboardInterrupt, to truncate traceback\u001b[0m\u001b[1;33m\u001b[0m\u001b[1;33m\u001b[0m\u001b[1;33m\u001b[0m\u001b[0m\n\u001b[1;32m--> 904\u001b[1;33m                 \u001b[1;32mraise\u001b[0m \u001b[0mKeyboardInterrupt\u001b[0m\u001b[1;33m(\u001b[0m\u001b[1;34m\"Interrupted by user\"\u001b[0m\u001b[1;33m)\u001b[0m \u001b[1;32mfrom\u001b[0m \u001b[1;32mNone\u001b[0m\u001b[1;33m\u001b[0m\u001b[1;33m\u001b[0m\u001b[0m\n\u001b[0m\u001b[0;32m    905\u001b[0m             \u001b[1;32mexcept\u001b[0m \u001b[0mException\u001b[0m \u001b[1;32mas\u001b[0m \u001b[0me\u001b[0m\u001b[1;33m:\u001b[0m\u001b[1;33m\u001b[0m\u001b[1;33m\u001b[0m\u001b[0m\n\u001b[0;32m    906\u001b[0m                 \u001b[0mself\u001b[0m\u001b[1;33m.\u001b[0m\u001b[0mlog\u001b[0m\u001b[1;33m.\u001b[0m\u001b[0mwarning\u001b[0m\u001b[1;33m(\u001b[0m\u001b[1;34m\"Invalid Message:\"\u001b[0m\u001b[1;33m,\u001b[0m \u001b[0mexc_info\u001b[0m\u001b[1;33m=\u001b[0m\u001b[1;32mTrue\u001b[0m\u001b[1;33m)\u001b[0m\u001b[1;33m\u001b[0m\u001b[1;33m\u001b[0m\u001b[0m\n",
      "\u001b[1;31mKeyboardInterrupt\u001b[0m: Interrupted by user"
     ]
    }
   ],
   "metadata": {}
  }
 ],
 "metadata": {
  "orig_nbformat": 4,
  "language_info": {
   "name": "python",
   "version": "3.8.3",
   "mimetype": "text/x-python",
   "codemirror_mode": {
    "name": "ipython",
    "version": 3
   },
   "pygments_lexer": "ipython3",
   "nbconvert_exporter": "python",
   "file_extension": ".py"
  },
  "kernelspec": {
   "name": "python3",
   "display_name": "Python 3.8.3 64-bit ('base': conda)"
  },
  "interpreter": {
   "hash": "46182d5f787c7496ac3d2ccd0c5d8bf41bffd3ac5e5e93146af501a7f382c533"
  }
 },
 "nbformat": 4,
 "nbformat_minor": 2
}